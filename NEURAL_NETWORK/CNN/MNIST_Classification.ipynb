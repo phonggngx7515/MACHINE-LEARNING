{
 "cells": [
  {
   "cell_type": "code",
   "execution_count": 1,
   "metadata": {},
   "outputs": [],
   "source": [
    "import numpy as np\n",
    "import pandas as pd\n",
    "import matplotlib.pyplot as plt\n",
    "import seaborn as sns\n",
    "import tensorflow as tf"
   ]
  },
  {
   "cell_type": "code",
   "execution_count": 2,
   "metadata": {},
   "outputs": [
    {
     "name": "stdout",
     "output_type": "stream",
     "text": [
      "Num GPUs Available:  0\n"
     ]
    }
   ],
   "source": [
    "import tensorflow as tf\n",
    "print(\"Num GPUs Available: \", len(tf.config.list_physical_devices('GPU')))"
   ]
  },
  {
   "cell_type": "code",
   "execution_count": 3,
   "metadata": {},
   "outputs": [],
   "source": [
    "from tensorflow.keras.datasets import mnist\n",
    "(X_train, y_train), (X_test, y_test) = mnist.load_data()"
   ]
  },
  {
   "cell_type": "code",
   "execution_count": 4,
   "metadata": {},
   "outputs": [],
   "source": [
    "from tensorflow.keras.utils import to_categorical\n",
    "\n",
    "# Normalize the images to values between 0 and 1\n",
    "X_train = X_train.astype('float32') / 255.0\n",
    "X_test = X_test.astype('float32') / 255.0\n",
    "\n",
    "# One-hot encode the labels\n",
    "y_train = to_categorical(y_train, 10)\n",
    "y_test = to_categorical(y_test, 10)"
   ]
  },
  {
   "cell_type": "markdown",
   "metadata": {},
   "source": [
    "DNN MODEL"
   ]
  },
  {
   "cell_type": "code",
   "execution_count": 5,
   "metadata": {},
   "outputs": [
    {
     "name": "stdout",
     "output_type": "stream",
     "text": [
      "Epoch 1/10\n",
      "\u001b[1m469/469\u001b[0m \u001b[32m━━━━━━━━━━━━━━━━━━━━\u001b[0m\u001b[37m\u001b[0m \u001b[1m4s\u001b[0m 5ms/step - accuracy: 0.8274 - loss: 0.1126 - val_accuracy: 0.9641 - val_loss: 0.0231\n",
      "Epoch 2/10\n",
      "\u001b[1m469/469\u001b[0m \u001b[32m━━━━━━━━━━━━━━━━━━━━\u001b[0m\u001b[37m\u001b[0m \u001b[1m3s\u001b[0m 6ms/step - accuracy: 0.9707 - loss: 0.0197 - val_accuracy: 0.9759 - val_loss: 0.0154\n",
      "Epoch 3/10\n",
      "\u001b[1m469/469\u001b[0m \u001b[32m━━━━━━━━━━━━━━━━━━━━\u001b[0m\u001b[37m\u001b[0m \u001b[1m3s\u001b[0m 6ms/step - accuracy: 0.9829 - loss: 0.0120 - val_accuracy: 0.9790 - val_loss: 0.0136\n",
      "Epoch 4/10\n",
      "\u001b[1m469/469\u001b[0m \u001b[32m━━━━━━━━━━━━━━━━━━━━\u001b[0m\u001b[37m\u001b[0m \u001b[1m3s\u001b[0m 6ms/step - accuracy: 0.9888 - loss: 0.0081 - val_accuracy: 0.9786 - val_loss: 0.0132\n",
      "Epoch 5/10\n",
      "\u001b[1m469/469\u001b[0m \u001b[32m━━━━━━━━━━━━━━━━━━━━\u001b[0m\u001b[37m\u001b[0m \u001b[1m2s\u001b[0m 5ms/step - accuracy: 0.9923 - loss: 0.0057 - val_accuracy: 0.9818 - val_loss: 0.0119\n",
      "Epoch 6/10\n",
      "\u001b[1m469/469\u001b[0m \u001b[32m━━━━━━━━━━━━━━━━━━━━\u001b[0m\u001b[37m\u001b[0m \u001b[1m2s\u001b[0m 5ms/step - accuracy: 0.9941 - loss: 0.0043 - val_accuracy: 0.9807 - val_loss: 0.0120\n",
      "Epoch 7/10\n",
      "\u001b[1m469/469\u001b[0m \u001b[32m━━━━━━━━━━━━━━━━━━━━\u001b[0m\u001b[37m\u001b[0m \u001b[1m2s\u001b[0m 5ms/step - accuracy: 0.9964 - loss: 0.0029 - val_accuracy: 0.9812 - val_loss: 0.0129\n",
      "Epoch 8/10\n",
      "\u001b[1m469/469\u001b[0m \u001b[32m━━━━━━━━━━━━━━━━━━━━\u001b[0m\u001b[37m\u001b[0m \u001b[1m2s\u001b[0m 5ms/step - accuracy: 0.9973 - loss: 0.0023 - val_accuracy: 0.9828 - val_loss: 0.0136\n",
      "Epoch 9/10\n",
      "\u001b[1m469/469\u001b[0m \u001b[32m━━━━━━━━━━━━━━━━━━━━\u001b[0m\u001b[37m\u001b[0m \u001b[1m2s\u001b[0m 5ms/step - accuracy: 0.9983 - loss: 0.0016 - val_accuracy: 0.9830 - val_loss: 0.0131\n",
      "Epoch 10/10\n",
      "\u001b[1m469/469\u001b[0m \u001b[32m━━━━━━━━━━━━━━━━━━━━\u001b[0m\u001b[37m\u001b[0m \u001b[1m2s\u001b[0m 5ms/step - accuracy: 0.9984 - loss: 0.0015 - val_accuracy: 0.9837 - val_loss: 0.0129\n",
      "\u001b[1m313/313\u001b[0m \u001b[32m━━━━━━━━━━━━━━━━━━━━\u001b[0m\u001b[37m\u001b[0m \u001b[1m0s\u001b[0m 998us/step\n"
     ]
    }
   ],
   "source": [
    "from tensorflow.keras.models import Sequential\n",
    "from tensorflow.keras.layers import Dense, Flatten, Input\n",
    "from tensorflow.keras.losses import BinaryCrossentropy\n",
    "from tensorflow.keras.losses import CategoricalCrossentropy\n",
    "from tensorflow.keras.losses import SparseCategoricalCrossentropy\n",
    "\n",
    "model = Sequential()\n",
    "\n",
    "model.add(Input(shape=(28, 28)))\n",
    "model.add(Flatten(input_shape=(28, 28)))\n",
    "\n",
    "model.add(Dense(512, activation='relu'))\n",
    "model.add(Dense(256, activation='relu'))\n",
    "\n",
    "model.add(Dense(10, activation='linear'))\n",
    "\n",
    "model.compile(optimizer='adam', loss=BinaryCrossentropy(from_logits=True), metrics=['accuracy'])\n",
    "\n",
    "model.fit(X_train, y_train, epochs=10, batch_size=128, validation_data=(X_test, y_test))\n",
    "\n",
    "y_pred_probs = model.predict(X_test)\n",
    "y_pred_probs = tf.nn.softmax(y_pred_probs)\n",
    "\n",
    "y_pred_labels = np.argmax(y_pred_probs, axis=1)\n",
    "y_pred_one_hot = to_categorical(y_pred_labels, num_classes=10)"
   ]
  },
  {
   "cell_type": "code",
   "execution_count": 6,
   "metadata": {},
   "outputs": [
    {
     "name": "stdout",
     "output_type": "stream",
     "text": [
      "Accuracy: 0.9837\n",
      "F1 Macro: 0.9835879140938953\n",
      "F1 Micro: 0.9837\n",
      "F1 Weighted: 0.9836997017099444\n",
      "F1 Samples: 0.9837\n"
     ]
    }
   ],
   "source": [
    "from sklearn.metrics import accuracy_score, f1_score\n",
    "\n",
    "accuracy = accuracy_score(y_test, y_pred_one_hot)\n",
    "print(f'Accuracy: {accuracy}')\n",
    "\n",
    "f1_macro = f1_score(y_test, y_pred_one_hot, average='macro')\n",
    "f1_micro = f1_score(y_test, y_pred_one_hot, average='micro')\n",
    "f1_weighted = f1_score(y_test, y_pred_one_hot, average='weighted')\n",
    "f1_samples = f1_score(y_test, y_pred_one_hot, average='samples')\n",
    "\n",
    "print(f'F1 Macro: {f1_macro}')\n",
    "print(f'F1 Micro: {f1_micro}')\n",
    "print(f'F1 Weighted: {f1_weighted}')\n",
    "print(f'F1 Samples: {f1_samples}')"
   ]
  },
  {
   "cell_type": "markdown",
   "metadata": {},
   "source": [
    "CNN MODEL"
   ]
  },
  {
   "cell_type": "code",
   "execution_count": 7,
   "metadata": {},
   "outputs": [],
   "source": [
    "(X_train, y_train), (X_test, y_test) = mnist.load_data()"
   ]
  },
  {
   "cell_type": "code",
   "execution_count": 8,
   "metadata": {},
   "outputs": [],
   "source": [
    "X_train = X_train.reshape(-1, 28, 28, 1).astype('float32') / 255.0\n",
    "X_test = X_test.reshape(-1, 28, 28, 1).astype('float32') / 255.0\n",
    "\n",
    "y_train = to_categorical(y_train, 10)\n",
    "y_test = to_categorical(y_test, 10)"
   ]
  },
  {
   "cell_type": "code",
   "execution_count": 9,
   "metadata": {},
   "outputs": [
    {
     "name": "stdout",
     "output_type": "stream",
     "text": [
      "Epoch 1/10\n"
     ]
    },
    {
     "name": "stdout",
     "output_type": "stream",
     "text": [
      "\u001b[1m469/469\u001b[0m \u001b[32m━━━━━━━━━━━━━━━━━━━━\u001b[0m\u001b[37m\u001b[0m \u001b[1m14s\u001b[0m 27ms/step - accuracy: 0.7517 - loss: 0.1542 - val_accuracy: 0.9793 - val_loss: 0.0158\n",
      "Epoch 2/10\n",
      "\u001b[1m469/469\u001b[0m \u001b[32m━━━━━━━━━━━━━━━━━━━━\u001b[0m\u001b[37m\u001b[0m \u001b[1m14s\u001b[0m 30ms/step - accuracy: 0.9802 - loss: 0.0145 - val_accuracy: 0.9857 - val_loss: 0.0093\n",
      "Epoch 3/10\n",
      "\u001b[1m469/469\u001b[0m \u001b[32m━━━━━━━━━━━━━━━━━━━━\u001b[0m\u001b[37m\u001b[0m \u001b[1m11s\u001b[0m 24ms/step - accuracy: 0.9869 - loss: 0.0098 - val_accuracy: 0.9878 - val_loss: 0.0087\n",
      "Epoch 4/10\n",
      "\u001b[1m469/469\u001b[0m \u001b[32m━━━━━━━━━━━━━━━━━━━━\u001b[0m\u001b[37m\u001b[0m \u001b[1m11s\u001b[0m 24ms/step - accuracy: 0.9902 - loss: 0.0074 - val_accuracy: 0.9883 - val_loss: 0.0080\n",
      "Epoch 5/10\n",
      "\u001b[1m469/469\u001b[0m \u001b[32m━━━━━━━━━━━━━━━━━━━━\u001b[0m\u001b[37m\u001b[0m \u001b[1m10s\u001b[0m 22ms/step - accuracy: 0.9916 - loss: 0.0061 - val_accuracy: 0.9902 - val_loss: 0.0066\n",
      "Epoch 6/10\n",
      "\u001b[1m469/469\u001b[0m \u001b[32m━━━━━━━━━━━━━━━━━━━━\u001b[0m\u001b[37m\u001b[0m \u001b[1m11s\u001b[0m 23ms/step - accuracy: 0.9936 - loss: 0.0049 - val_accuracy: 0.9912 - val_loss: 0.0058\n",
      "Epoch 7/10\n",
      "\u001b[1m469/469\u001b[0m \u001b[32m━━━━━━━━━━━━━━━━━━━━\u001b[0m\u001b[37m\u001b[0m \u001b[1m11s\u001b[0m 23ms/step - accuracy: 0.9953 - loss: 0.0039 - val_accuracy: 0.9914 - val_loss: 0.0061\n",
      "Epoch 8/10\n",
      "\u001b[1m469/469\u001b[0m \u001b[32m━━━━━━━━━━━━━━━━━━━━\u001b[0m\u001b[37m\u001b[0m \u001b[1m11s\u001b[0m 23ms/step - accuracy: 0.9960 - loss: 0.0032 - val_accuracy: 0.9910 - val_loss: 0.0059\n",
      "Epoch 9/10\n",
      "\u001b[1m469/469\u001b[0m \u001b[32m━━━━━━━━━━━━━━━━━━━━\u001b[0m\u001b[37m\u001b[0m \u001b[1m11s\u001b[0m 23ms/step - accuracy: 0.9964 - loss: 0.0030 - val_accuracy: 0.9909 - val_loss: 0.0060\n",
      "Epoch 10/10\n",
      "\u001b[1m469/469\u001b[0m \u001b[32m━━━━━━━━━━━━━━━━━━━━\u001b[0m\u001b[37m\u001b[0m \u001b[1m11s\u001b[0m 22ms/step - accuracy: 0.9974 - loss: 0.0025 - val_accuracy: 0.9907 - val_loss: 0.0067\n",
      "\u001b[1m313/313\u001b[0m \u001b[32m━━━━━━━━━━━━━━━━━━━━\u001b[0m\u001b[37m\u001b[0m \u001b[1m1s\u001b[0m 3ms/step\n"
     ]
    }
   ],
   "source": [
    "from tensorflow.keras.layers import Conv2D, MaxPooling2D\n",
    "\n",
    "model = Sequential()\n",
    "\n",
    "model.add(Conv2D(32, (3, 3), activation='relu', input_shape=(28, 28, 1)))\n",
    "model.add(MaxPooling2D(pool_size=(2, 2)))\n",
    "\n",
    "model.add(Conv2D(64, (3, 3), activation='relu'))\n",
    "model.add(MaxPooling2D(pool_size=(2, 2)))\n",
    "\n",
    "model.add(Flatten())\n",
    "\n",
    "model.add(Dense(128, activation='relu'))\n",
    "\n",
    "model.add(Dense(10, activation='linear'))\n",
    "\n",
    "model.compile(optimizer='adam', loss=BinaryCrossentropy(from_logits=True), metrics=['accuracy'])\n",
    "\n",
    "model.fit(X_train, y_train, epochs=10, batch_size=128, validation_data=(X_test, y_test))\n",
    "\n",
    "y_pred_probs = model.predict(X_test)\n",
    "y_pred_probs = tf.nn.softmax(y_pred_probs)\n",
    "\n",
    "y_pred_labels = np.argmax(y_pred_probs, axis=1)\n",
    "y_pred_one_hot = to_categorical(y_pred_labels, num_classes=10)"
   ]
  },
  {
   "cell_type": "code",
   "execution_count": 10,
   "metadata": {},
   "outputs": [
    {
     "name": "stdout",
     "output_type": "stream",
     "text": [
      "Accuracy: 0.9907\n",
      "F1 Macro: 0.990580813434416\n",
      "F1 Micro: 0.9907\n",
      "F1 Weighted: 0.9907006061674223\n",
      "F1 Samples: 0.9907\n"
     ]
    }
   ],
   "source": [
    "from sklearn.metrics import accuracy_score, f1_score\n",
    "\n",
    "accuracy = accuracy_score(y_test, y_pred_one_hot)\n",
    "print(f'Accuracy: {accuracy}')\n",
    "\n",
    "f1_macro = f1_score(y_test, y_pred_one_hot, average='macro')\n",
    "f1_micro = f1_score(y_test, y_pred_one_hot, average='micro')\n",
    "f1_weighted = f1_score(y_test, y_pred_one_hot, average='weighted')\n",
    "f1_samples = f1_score(y_test, y_pred_one_hot, average='samples')\n",
    "\n",
    "print(f'F1 Macro: {f1_macro}')\n",
    "print(f'F1 Micro: {f1_micro}')\n",
    "print(f'F1 Weighted: {f1_weighted}')\n",
    "print(f'F1 Samples: {f1_samples}')"
   ]
  },
  {
   "cell_type": "code",
   "execution_count": 13,
   "metadata": {},
   "outputs": [
    {
     "data": {
      "image/png": "[encoded data removed]",
      "text/plain": [
       "<Figure size 640x480 with 1 Axes>"
      ]
     },
     "metadata": {},
     "output_type": "display_data"
    },
    {
     "name": "stdout",
     "output_type": "stream",
     "text": [
      "\u001b[1m1/1\u001b[0m \u001b[32m━━━━━━━━━━━━━━━━━━━━\u001b[0m\u001b[37m\u001b[0m \u001b[1m0s\u001b[0m 22ms/step\n",
      "Predicted label: 3\n"
     ]
    }
   ],
   "source": [
    "import cv2\n",
    "import numpy as np\n",
    "import matplotlib.pyplot as plt\n",
    "import tensorflow as tf\n",
    "import ipywidgets as widgets\n",
    "from IPython.display import display\n",
    "\n",
    "def preprocess_image(image_path):\n",
    "    # Đọc ảnh từ đường dẫn\n",
    "    img = cv2.imread(image_path, cv2.IMREAD_GRAYSCALE)\n",
    "    \n",
    "    # Kiểm tra xem ảnh có được đọc thành công không\n",
    "    if img is None:\n",
    "        raise ValueError(f\"Cannot read image from path: {image_path}\")\n",
    "    \n",
    "    # Ngưỡng nhị phân ảnh\n",
    "    _, img_thresh = cv2.threshold(img, 128, 255, cv2.THRESH_BINARY_INV)\n",
    "    \n",
    "    # Tìm viền của ảnh\n",
    "    contours, _ = cv2.findContours(img_thresh, cv2.RETR_EXTERNAL, cv2.CHAIN_APPROX_SIMPLE)\n",
    "    \n",
    "    if contours:\n",
    "        # Lấy viền lớn nhất\n",
    "        cnt = max(contours, key=cv2.contourArea)\n",
    "        x, y, w, h = cv2.boundingRect(cnt)\n",
    "        img_cropped = img_thresh[y:y+h, x:x+w]\n",
    "    else:\n",
    "        img_cropped = img_thresh  # Nếu không tìm thấy viền, giữ nguyên ảnh\n",
    "\n",
    "    # Thay đổi kích thước ảnh về 20x20 pixel (giống kích thước trong MNIST)\n",
    "    img_resized = cv2.resize(img_cropped, (20, 20), interpolation=cv2.INTER_AREA)\n",
    "    \n",
    "    # Tạo khung nền 28x28 và đặt ảnh vào giữa\n",
    "    img_padded = np.zeros((28, 28), dtype=np.uint8) * 255  # Nền đen\n",
    "    x_offset = (28 - 20) // 2\n",
    "    y_offset = (28 - 20) // 2\n",
    "    img_padded[y_offset:y_offset+20, x_offset:x_offset+20] = img_resized\n",
    "    \n",
    "    # Chuẩn hóa giá trị ảnh (MNIST có các giá trị pixel từ 0 đến 1)\n",
    "    img_normalized = img_padded / 255.0\n",
    "    \n",
    "    return img_normalized\n",
    "\n",
    "# Ví dụ sử dụng\n",
    "image_path = 'So3.png' # Thay bằng đường dẫn tới ảnh chữ viết tay\n",
    "processed_image = preprocess_image(image_path)\n",
    "\n",
    "# Kiểm tra ảnh sau khi tiền xử lý\n",
    "plt.imshow(processed_image, cmap='gray')\n",
    "plt.show()\n",
    "\n",
    "# Expand dimensions to match the input shape expected by the model\n",
    "processed_image = np.expand_dims(processed_image, axis=0)  # Add batch dimension\n",
    "processed_image = np.expand_dims(processed_image, axis=-1)  # Add channel dimension\n",
    "\n",
    "# Predict the class of the input image using the CNN model\n",
    "predicted_probs = model.predict(processed_image)\n",
    "predicted_probs = tf.nn.softmax(predicted_probs)\n",
    "predicted_label = np.argmax(predicted_probs, axis=1)\n",
    "\n",
    "print(f'Predicted label: {predicted_label[0]}')"
   ]
  }
 ],
 "metadata": {
  "kernelspec": {
   "display_name": ".venv",
   "language": "python",
   "name": "python3"
  },
  "language_info": {
   "codemirror_mode": {
    "name": "ipython",
    "version": 3
   },
   "file_extension": ".py",
   "mimetype": "text/x-python",
   "name": "python",
   "nbconvert_exporter": "python",
   "pygments_lexer": "ipython3",
   "version": "3.12.4"
  }
 },
 "nbformat": 4,
 "nbformat_minor": 2
}
